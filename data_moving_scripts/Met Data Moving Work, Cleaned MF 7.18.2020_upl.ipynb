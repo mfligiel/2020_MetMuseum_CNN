{
 "cells": [
  {
   "cell_type": "markdown",
   "metadata": {},
   "source": [
    "## Pulling together data - Overview\n",
    "\n",
    "In this notebook, we:\n",
    "\n",
    "- load the relevant information from bigquery\n",
    "- perform a train test split\n",
    "- move the relevant data to a storage bucket.\n",
    "\n",
    "## Table of Contents\n",
    "1. Setup\n",
    "2. Train Test Split\n",
    "3. Writing the Bash Scripts\n",
    "4. Running the Bash Scripts\n",
    "\n",
    "### 1. Setup\n"
   ]
  },
  {
   "cell_type": "markdown",
   "metadata": {},
   "source": [
    "To begin with, let's load in credentials and set up bigquery."
   ]
  },
  {
   "cell_type": "code",
   "execution_count": 239,
   "metadata": {},
   "outputs": [],
   "source": [
    "from google.cloud import storage\n",
    "import os\n",
    "from sklearn.model_selection import train_test_split\n",
    "import pandas as pd\n",
    "\n",
    "credential_path = r\"C:\\Users\\matfl\\Documents\\MSCA 31009 Project -24078705271d.json\"\n",
    "os.environ['GOOGLE_APPLICATION_CREDENTIALS'] = credential_path\n"
   ]
  },
  {
   "cell_type": "code",
   "execution_count": 237,
   "metadata": {
    "scrolled": true
   },
   "outputs": [
    {
     "name": "stdout",
     "output_type": "stream",
     "text": [
      "The google.cloud.bigquery extension is already loaded. To reload it, use:\n",
      "  %reload_ext google.cloud.bigquery\n"
     ]
    }
   ],
   "source": [
    "%load_ext google.cloud.bigquery"
   ]
  },
  {
   "cell_type": "markdown",
   "metadata": {},
   "source": [
    "### 2. Train Test Split\n",
    "\n",
    "Next, let's make the table that we will use for test train split.  Here, we are focusing on art from 5 cultures.  "
   ]
  },
  {
   "cell_type": "code",
   "execution_count": 241,
   "metadata": {},
   "outputs": [],
   "source": [
    "%%bigquery ttv_split_table\n",
    "SELECT a.culture, a.object_id\n",
    "FROM `bigquery-public-data.the_met.objects` a \n",
    "WHERE a.culture in ('China', 'Japan', 'American', 'French', 'Italian')"
   ]
  },
  {
   "cell_type": "markdown",
   "metadata": {},
   "source": [
    "Let's make sure we have a proper split."
   ]
  },
  {
   "cell_type": "code",
   "execution_count": 243,
   "metadata": {
    "scrolled": true
   },
   "outputs": [
    {
     "data": {
      "text/html": [
       "<div>\n",
       "<style scoped>\n",
       "    .dataframe tbody tr th:only-of-type {\n",
       "        vertical-align: middle;\n",
       "    }\n",
       "\n",
       "    .dataframe tbody tr th {\n",
       "        vertical-align: top;\n",
       "    }\n",
       "\n",
       "    .dataframe thead th {\n",
       "        text-align: right;\n",
       "    }\n",
       "</style>\n",
       "<table border=\"1\" class=\"dataframe\">\n",
       "  <thead>\n",
       "    <tr style=\"text-align: right;\">\n",
       "      <th></th>\n",
       "      <th>object_id</th>\n",
       "    </tr>\n",
       "    <tr>\n",
       "      <th>culture</th>\n",
       "      <th></th>\n",
       "    </tr>\n",
       "  </thead>\n",
       "  <tbody>\n",
       "    <tr>\n",
       "      <th>American</th>\n",
       "      <td>9239</td>\n",
       "    </tr>\n",
       "    <tr>\n",
       "      <th>China</th>\n",
       "      <td>10430</td>\n",
       "    </tr>\n",
       "    <tr>\n",
       "      <th>French</th>\n",
       "      <td>8853</td>\n",
       "    </tr>\n",
       "    <tr>\n",
       "      <th>Italian</th>\n",
       "      <td>4221</td>\n",
       "    </tr>\n",
       "    <tr>\n",
       "      <th>Japan</th>\n",
       "      <td>14746</td>\n",
       "    </tr>\n",
       "  </tbody>\n",
       "</table>\n",
       "</div>"
      ],
      "text/plain": [
       "          object_id\n",
       "culture            \n",
       "American       9239\n",
       "China         10430\n",
       "French         8853\n",
       "Italian        4221\n",
       "Japan         14746"
      ]
     },
     "execution_count": 243,
     "metadata": {},
     "output_type": "execute_result"
    }
   ],
   "source": [
    "ttv_split_table.groupby('culture').count()"
   ]
  },
  {
   "cell_type": "markdown",
   "metadata": {},
   "source": [
    "The values above look right for the object IDs!\n",
    "\n",
    "From the above, we can write automated bash scripts to pull over each of the items into the appropriate folder.\n",
    "\n",
    "Below are the train test splits.  I can't actually do them with the function, as I need x and y together for the query writing!  So, I have shuffled the table instead.."
   ]
  },
  {
   "cell_type": "code",
   "execution_count": 264,
   "metadata": {},
   "outputs": [],
   "source": [
    "ttv_split_table = ttv_split_table.sample(frac=1).reset_index(drop=True)\n"
   ]
  },
  {
   "cell_type": "code",
   "execution_count": 265,
   "metadata": {},
   "outputs": [
    {
     "data": {
      "text/plain": [
       "4748.9"
      ]
     },
     "execution_count": 265,
     "metadata": {},
     "output_type": "execute_result"
    }
   ],
   "source": [
    "len(ttv_split_table)/10"
   ]
  },
  {
   "cell_type": "markdown",
   "metadata": {},
   "source": [
    "Here, we create test, validation and train object sets from indexing the shuffled table."
   ]
  },
  {
   "cell_type": "code",
   "execution_count": 274,
   "metadata": {},
   "outputs": [],
   "source": [
    "test = ttv_split_table[-4749:]\n",
    "val = ttv_split_table[-(4749*2):-4749]\n",
    "trn = ttv_split_table[:-(4749*2)]"
   ]
  },
  {
   "cell_type": "code",
   "execution_count": 275,
   "metadata": {},
   "outputs": [
    {
     "data": {
      "text/plain": [
       "True"
      ]
     },
     "execution_count": 275,
     "metadata": {},
     "output_type": "execute_result"
    }
   ],
   "source": [
    "len(test)+len(val)+len(trn) == len(ttv_split_table)"
   ]
  },
  {
   "cell_type": "markdown",
   "metadata": {},
   "source": [
    "How many are there in test train and validation?"
   ]
  },
  {
   "cell_type": "code",
   "execution_count": 282,
   "metadata": {},
   "outputs": [
    {
     "data": {
      "text/html": [
       "<div>\n",
       "<style scoped>\n",
       "    .dataframe tbody tr th:only-of-type {\n",
       "        vertical-align: middle;\n",
       "    }\n",
       "\n",
       "    .dataframe tbody tr th {\n",
       "        vertical-align: top;\n",
       "    }\n",
       "\n",
       "    .dataframe thead th {\n",
       "        text-align: right;\n",
       "    }\n",
       "</style>\n",
       "<table border=\"1\" class=\"dataframe\">\n",
       "  <thead>\n",
       "    <tr style=\"text-align: right;\">\n",
       "      <th></th>\n",
       "      <th>object_id</th>\n",
       "    </tr>\n",
       "    <tr>\n",
       "      <th>culture</th>\n",
       "      <th></th>\n",
       "    </tr>\n",
       "  </thead>\n",
       "  <tbody>\n",
       "    <tr>\n",
       "      <th>Italian</th>\n",
       "      <td>440</td>\n",
       "    </tr>\n",
       "    <tr>\n",
       "      <th>French</th>\n",
       "      <td>871</td>\n",
       "    </tr>\n",
       "    <tr>\n",
       "      <th>American</th>\n",
       "      <td>881</td>\n",
       "    </tr>\n",
       "    <tr>\n",
       "      <th>China</th>\n",
       "      <td>1103</td>\n",
       "    </tr>\n",
       "    <tr>\n",
       "      <th>Japan</th>\n",
       "      <td>1454</td>\n",
       "    </tr>\n",
       "  </tbody>\n",
       "</table>\n",
       "</div>"
      ],
      "text/plain": [
       "          object_id\n",
       "culture            \n",
       "Italian         440\n",
       "French          871\n",
       "American        881\n",
       "China          1103\n",
       "Japan          1454"
      ]
     },
     "execution_count": 282,
     "metadata": {},
     "output_type": "execute_result"
    }
   ],
   "source": [
    "test.groupby('culture').count().sort_values(by='object_id')"
   ]
  },
  {
   "cell_type": "code",
   "execution_count": 285,
   "metadata": {},
   "outputs": [
    {
     "data": {
      "text/html": [
       "<div>\n",
       "<style scoped>\n",
       "    .dataframe tbody tr th:only-of-type {\n",
       "        vertical-align: middle;\n",
       "    }\n",
       "\n",
       "    .dataframe tbody tr th {\n",
       "        vertical-align: top;\n",
       "    }\n",
       "\n",
       "    .dataframe thead th {\n",
       "        text-align: right;\n",
       "    }\n",
       "</style>\n",
       "<table border=\"1\" class=\"dataframe\">\n",
       "  <thead>\n",
       "    <tr style=\"text-align: right;\">\n",
       "      <th></th>\n",
       "      <th>object_id</th>\n",
       "    </tr>\n",
       "    <tr>\n",
       "      <th>culture</th>\n",
       "      <th></th>\n",
       "    </tr>\n",
       "  </thead>\n",
       "  <tbody>\n",
       "    <tr>\n",
       "      <th>Italian</th>\n",
       "      <td>3335</td>\n",
       "    </tr>\n",
       "    <tr>\n",
       "      <th>French</th>\n",
       "      <td>7076</td>\n",
       "    </tr>\n",
       "    <tr>\n",
       "      <th>American</th>\n",
       "      <td>7444</td>\n",
       "    </tr>\n",
       "    <tr>\n",
       "      <th>China</th>\n",
       "      <td>8293</td>\n",
       "    </tr>\n",
       "    <tr>\n",
       "      <th>Japan</th>\n",
       "      <td>11843</td>\n",
       "    </tr>\n",
       "  </tbody>\n",
       "</table>\n",
       "</div>"
      ],
      "text/plain": [
       "          object_id\n",
       "culture            \n",
       "Italian        3335\n",
       "French         7076\n",
       "American       7444\n",
       "China          8293\n",
       "Japan         11843"
      ]
     },
     "execution_count": 285,
     "metadata": {},
     "output_type": "execute_result"
    }
   ],
   "source": [
    "trn.groupby('culture').count().sort_values(by='object_id')"
   ]
  },
  {
   "cell_type": "code",
   "execution_count": 284,
   "metadata": {},
   "outputs": [
    {
     "data": {
      "text/html": [
       "<div>\n",
       "<style scoped>\n",
       "    .dataframe tbody tr th:only-of-type {\n",
       "        vertical-align: middle;\n",
       "    }\n",
       "\n",
       "    .dataframe tbody tr th {\n",
       "        vertical-align: top;\n",
       "    }\n",
       "\n",
       "    .dataframe thead th {\n",
       "        text-align: right;\n",
       "    }\n",
       "</style>\n",
       "<table border=\"1\" class=\"dataframe\">\n",
       "  <thead>\n",
       "    <tr style=\"text-align: right;\">\n",
       "      <th></th>\n",
       "      <th>object_id</th>\n",
       "    </tr>\n",
       "    <tr>\n",
       "      <th>culture</th>\n",
       "      <th></th>\n",
       "    </tr>\n",
       "  </thead>\n",
       "  <tbody>\n",
       "    <tr>\n",
       "      <th>Italian</th>\n",
       "      <td>446</td>\n",
       "    </tr>\n",
       "    <tr>\n",
       "      <th>French</th>\n",
       "      <td>906</td>\n",
       "    </tr>\n",
       "    <tr>\n",
       "      <th>American</th>\n",
       "      <td>914</td>\n",
       "    </tr>\n",
       "    <tr>\n",
       "      <th>China</th>\n",
       "      <td>1034</td>\n",
       "    </tr>\n",
       "    <tr>\n",
       "      <th>Japan</th>\n",
       "      <td>1449</td>\n",
       "    </tr>\n",
       "  </tbody>\n",
       "</table>\n",
       "</div>"
      ],
      "text/plain": [
       "          object_id\n",
       "culture            \n",
       "Italian         446\n",
       "French          906\n",
       "American        914\n",
       "China          1034\n",
       "Japan          1449"
      ]
     },
     "execution_count": 284,
     "metadata": {},
     "output_type": "execute_result"
    }
   ],
   "source": [
    "val.groupby('culture').count().sort_values(by='object_id')"
   ]
  },
  {
   "cell_type": "markdown",
   "metadata": {},
   "source": [
    "Looks close enough, though not perfect.  It wont be perfect anyways, because of the number of images per object varying.  \n",
    "\n",
    "### 3. Writing the Bash Scripts\n",
    "\n",
    "Next - writing scripts in bash!  The purpose of these scripts is to move the images from the public gcs storage bucket that hosts them, into our gcs bucket, where we can ensure theyre in the right folder structure for modeling.  Each of these is run with the command:\n",
    "\n",
    "<code>gsutil cat gs://met-image-bucket/[FILENAME] | gsutil -m cp -r -I gs://met-image-bucket/[DESTINATION NAME]\n",
    "</code>"
   ]
  },
  {
   "cell_type": "markdown",
   "metadata": {},
   "source": [
    "I'm gonna write a loop of scripts to write, because I am feeling fancy.  This first look runs through each folder and culture, and writes a script to move in the files, according to the list type."
   ]
  },
  {
   "cell_type": "code",
   "execution_count": 311,
   "metadata": {},
   "outputs": [
    {
     "name": "stdout",
     "output_type": "stream",
     "text": [
      "trn\n",
      "3335\n",
      "Italian\n",
      "trn\n",
      "7076\n",
      "French\n",
      "trn\n",
      "7444\n",
      "American\n",
      "trn\n",
      "8293\n",
      "China\n",
      "trn\n",
      "11843\n",
      "Japan\n",
      "test\n",
      "440\n",
      "Italian\n",
      "test\n",
      "871\n",
      "French\n",
      "test\n",
      "881\n",
      "American\n",
      "test\n",
      "1103\n",
      "China\n",
      "test\n",
      "1454\n",
      "Japan\n",
      "val\n",
      "446\n",
      "Italian\n",
      "val\n",
      "906\n",
      "French\n",
      "val\n",
      "914\n",
      "American\n",
      "val\n",
      "1034\n",
      "China\n",
      "val\n",
      "1449\n",
      "Japan\n"
     ]
    }
   ],
   "source": [
    "for k, v in {'trn':trn,'test':test,'val':val}.items():\n",
    "    for cul in ['Italian', 'French', 'American', 'China', 'Japan']:\n",
    "        script_write = '\\n'.join(v.loc[v['culture']==cul,'object_id'].apply(lambda x: 'gs://gcs-public-data--met/'+str(x)).tolist())\n",
    "        script_write = script_write.encode('utf8')\n",
    "        print(k)\n",
    "        print(len(v.loc[v['culture']==cul,:]))\n",
    "        print(cul)\n",
    "        f = open((k+'_'+cul+\".sh\"), \"wb\")\n",
    "        f.write(script_write)\n",
    "        f.close()\n",
    "    \n",
    "    "
   ]
  },
  {
   "cell_type": "markdown",
   "metadata": {},
   "source": [
    "This is a loop that prints the commands to run in gsutil, to move them into the right buckets."
   ]
  },
  {
   "cell_type": "code",
   "execution_count": 1,
   "metadata": {
    "scrolled": true
   },
   "outputs": [
    {
     "name": "stdout",
     "output_type": "stream",
     "text": [
      "gsutil cat gs://met-image-bucket/trn_Italian.sh | gsutil -m cp -r -I gs://met-image-bucket/trn_pre/Italian/\n",
      "gsutil cat gs://met-image-bucket/trn_French.sh | gsutil -m cp -r -I gs://met-image-bucket/trn_pre/French/\n",
      "gsutil cat gs://met-image-bucket/trn_American.sh | gsutil -m cp -r -I gs://met-image-bucket/trn_pre/American/\n",
      "gsutil cat gs://met-image-bucket/trn_China.sh | gsutil -m cp -r -I gs://met-image-bucket/trn_pre/China/\n",
      "gsutil cat gs://met-image-bucket/trn_Japan.sh | gsutil -m cp -r -I gs://met-image-bucket/trn_pre/Japan/\n",
      "gsutil cat gs://met-image-bucket/test_Italian.sh | gsutil -m cp -r -I gs://met-image-bucket/test_pre/Italian/\n",
      "gsutil cat gs://met-image-bucket/test_French.sh | gsutil -m cp -r -I gs://met-image-bucket/test_pre/French/\n",
      "gsutil cat gs://met-image-bucket/test_American.sh | gsutil -m cp -r -I gs://met-image-bucket/test_pre/American/\n",
      "gsutil cat gs://met-image-bucket/test_China.sh | gsutil -m cp -r -I gs://met-image-bucket/test_pre/China/\n",
      "gsutil cat gs://met-image-bucket/test_Japan.sh | gsutil -m cp -r -I gs://met-image-bucket/test_pre/Japan/\n",
      "gsutil cat gs://met-image-bucket/val_Italian.sh | gsutil -m cp -r -I gs://met-image-bucket/val_pre/Italian/\n",
      "gsutil cat gs://met-image-bucket/val_French.sh | gsutil -m cp -r -I gs://met-image-bucket/val_pre/French/\n",
      "gsutil cat gs://met-image-bucket/val_American.sh | gsutil -m cp -r -I gs://met-image-bucket/val_pre/American/\n",
      "gsutil cat gs://met-image-bucket/val_China.sh | gsutil -m cp -r -I gs://met-image-bucket/val_pre/China/\n",
      "gsutil cat gs://met-image-bucket/val_Japan.sh | gsutil -m cp -r -I gs://met-image-bucket/val_pre/Japan/\n"
     ]
    }
   ],
   "source": [
    "for k in ['trn', 'test', 'val']:\n",
    "    for cul in ['Italian', 'French', 'American', 'China', 'Japan']:\n",
    "        print('gsutil cat gs://met-image-bucket/'+k+'_'+cul+\".sh\"\\\n",
    "              ' | gsutil -m cp -r -I gs://met-image-bucket/'+k+'_pre/'+cul+'/')"
   ]
  },
  {
   "cell_type": "markdown",
   "metadata": {},
   "source": [
    "I ran bash scripts then to load the files - below are my notes.\n",
    "\n",
    "5 gb it train 17.5 gb fr train 16 gb us train 22.7 gb china train 55.3 japan train\n",
    "\n",
    "1.1 gb it test 2 gb fr test 2.8 gb us test 3.7 gb china test 6.3 gb japan test\n",
    "\n",
    "1.1 gb it val 2.1 gb fr val 1.9 gb us val 3 gb china val gb 7.9 japan val"
   ]
  },
  {
   "cell_type": "markdown",
   "metadata": {},
   "source": [
    "### 4. Running the Bash Scripts\n",
    "\n",
    "Now for the slower part - moving and renaming them into the real test and train filders and taking only the images.  I tested it out in another script, and this rename file should rename and move our files.  I'll add a piece in the loop that keeps track of where we are in the loop.\n",
    "\n",
    "The renaming is important, as it allows us to properly put the test/train/val datasets of each culture in the right folders, to allow using a flow from directory when training the model."
   ]
  },
  {
   "cell_type": "code",
   "execution_count": 19,
   "metadata": {},
   "outputs": [],
   "source": [
    "import os\n",
    "from os import environ\n",
    "from google.cloud import storage\n",
    "\n",
    "credential_path = r\"C:\\Users\\matfl\\Documents\\MSCA 31009 Project -24078705271d.json\"\n",
    "os.environ['GOOGLE_APPLICATION_CREDENTIALS'] = credential_path\n",
    "\n",
    "storage_client = storage.Client()\n",
    "client = storage_client\n",
    "bucket = storage_client.get_bucket('met-image-bucket')\n",
    "\n",
    "\n",
    "\n",
    "def rename_file(bucket, bucketFolderold,bucketFoldernew, fileName):\n",
    "    \"\"\"Rename file in GCP bucket.\"\"\"\n",
    "    #making a try and continue loop for if the folder doesn't work\n",
    "    try:\n",
    "        blob = bucket.blob(bucketFolderold + fileName)\n",
    "        bucket.rename_blob(blob,\n",
    "                       new_name=(bucketFoldernew+fileName.replace('/', '_')))\n",
    "    except:\n",
    "        print('failure '+fileName)\n",
    "    "
   ]
  },
  {
   "cell_type": "markdown",
   "metadata": {},
   "source": [
    "Here's some text to make the lists of the files to rename and move."
   ]
  },
  {
   "cell_type": "code",
   "execution_count": 5,
   "metadata": {},
   "outputs": [],
   "source": [
    "def make_lists(prefix):\n",
    "    ret = []\n",
    "    for blob in client.list_blobs('met-image-bucket', prefix=prefix):\n",
    "        ret.append(blob.name)\n",
    "        \n",
    "    ret = [i for i in ret if 'json' not in i]\n",
    "    ret = [i.replace(prefix,'') for i in ret]\n",
    "    return ret\n"
   ]
  },
  {
   "cell_type": "markdown",
   "metadata": {},
   "source": [
    "At the moment, I feel like just copy pasting rather than writing another loop, so I will be bad and write this 15 times."
   ]
  },
  {
   "cell_type": "code",
   "execution_count": 6,
   "metadata": {},
   "outputs": [],
   "source": [
    "French_Test_List = make_lists('test_pre/French/')\n",
    "French_Val_List = make_lists('val_pre/French/')\n",
    "French_Trn_List = make_lists('trn_pre/French/')"
   ]
  },
  {
   "cell_type": "code",
   "execution_count": 7,
   "metadata": {},
   "outputs": [],
   "source": [
    "Italian_Test_List = make_lists('test_pre/Italian/')\n",
    "Italian_Val_List = make_lists('val_pre/Italian/')\n",
    "Italian_Trn_List = make_lists('trn_pre/Italian/')"
   ]
  },
  {
   "cell_type": "code",
   "execution_count": 8,
   "metadata": {},
   "outputs": [],
   "source": [
    "American_Test_List = make_lists('test_pre/American/')\n",
    "American_Val_List = make_lists('val_pre/American/')\n",
    "American_Trn_List = make_lists('trn_pre/American/')"
   ]
  },
  {
   "cell_type": "markdown",
   "metadata": {},
   "source": [
    "I should look at how long these take."
   ]
  },
  {
   "cell_type": "code",
   "execution_count": 10,
   "metadata": {},
   "outputs": [
    {
     "name": "stdout",
     "output_type": "stream",
     "text": [
      "2020-07-21 13:47:26.901668\n",
      "2020-07-21 13:49:28.926075\n"
     ]
    }
   ],
   "source": [
    "import datetime\n",
    "\n",
    "\n",
    "print(datetime.datetime.now())\n",
    "China_Test_List = make_lists('test_pre/China/')\n",
    "China_Val_List = make_lists('val_pre/China/')\n",
    "China_Trn_List = make_lists('trn_pre/China/')\n",
    "print(datetime.datetime.now())"
   ]
  },
  {
   "cell_type": "code",
   "execution_count": 11,
   "metadata": {},
   "outputs": [
    {
     "name": "stdout",
     "output_type": "stream",
     "text": [
      "2020-07-21 13:49:28.932060\n",
      "2020-07-21 13:52:37.160409\n"
     ]
    }
   ],
   "source": [
    "print(datetime.datetime.now())\n",
    "Japan_Test_List = make_lists('test_pre/Japan/')\n",
    "Japan_Val_List = make_lists('val_pre/Japan/')\n",
    "Japan_Trn_List = make_lists('trn_pre/Japan/')\n",
    "print(datetime.datetime.now())"
   ]
  },
  {
   "cell_type": "code",
   "execution_count": 12,
   "metadata": {},
   "outputs": [
    {
     "data": {
      "text/plain": [
       "16824"
      ]
     },
     "execution_count": 12,
     "metadata": {},
     "output_type": "execute_result"
    }
   ],
   "source": [
    "len(American_Trn_List)"
   ]
  },
  {
   "cell_type": "markdown",
   "metadata": {},
   "source": [
    "Now it's time to run these.  Again, I'm gonna be a bad coder and do them one by one rather than a loop, since they'll take some time and this way I can more easily run them one by one.\n",
    "\n",
    "Would probably be smart to combine the make lists function and this loop but whatever."
   ]
  },
  {
   "cell_type": "code",
   "execution_count": 17,
   "metadata": {},
   "outputs": [
    {
     "name": "stdout",
     "output_type": "stream",
     "text": [
      "995\n",
      "0\n",
      "2020-07-21 13:54:10.590508\n"
     ]
    }
   ],
   "source": [
    "for x, i in enumerate(Italian_Test_List[:3]):\n",
    "    if x == 0:\n",
    "        print(len(Italian_Test_List))\n",
    "    rename_file(bucket, 'test_pre/Italian/', 'test/Italian/', str(i))\n",
    "    if x % 1000 < 1:\n",
    "        print(x)\n",
    "        print(datetime.datetime.now())"
   ]
  },
  {
   "cell_type": "markdown",
   "metadata": {},
   "source": [
    "It works!  Going to run it all, and not worry about the first 3 because we expect them to fail since we just ran them."
   ]
  },
  {
   "cell_type": "markdown",
   "metadata": {},
   "source": [
    "#### Italian"
   ]
  },
  {
   "cell_type": "code",
   "execution_count": 18,
   "metadata": {},
   "outputs": [
    {
     "name": "stdout",
     "output_type": "stream",
     "text": [
      "995\n",
      "failure\n",
      "0\n",
      "2020-07-21 13:55:10.075539\n",
      "failure\n",
      "failure\n"
     ]
    }
   ],
   "source": [
    "for x, i in enumerate(Italian_Test_List):\n",
    "    if x == 0:\n",
    "        print(len(Italian_Test_List))\n",
    "    rename_file(bucket, 'test_pre/Italian/', 'test/Italian/', str(i))\n",
    "    if x % 1000 < 1:\n",
    "        print(x)\n",
    "        print(datetime.datetime.now())"
   ]
  },
  {
   "cell_type": "code",
   "execution_count": 20,
   "metadata": {},
   "outputs": [
    {
     "name": "stdout",
     "output_type": "stream",
     "text": [
      "947\n",
      "0\n",
      "2020-07-21 14:01:26.032535\n"
     ]
    }
   ],
   "source": [
    "for x, i in enumerate(Italian_Val_List):\n",
    "    if x == 0:\n",
    "        print(len(Italian_Val_List))\n",
    "    rename_file(bucket, 'val_pre/Italian/', 'val/Italian/', str(i))\n",
    "    if x % 1000 < 1:\n",
    "        print(x)\n",
    "        print(datetime.datetime.now())\n",
    "print(datetime.datetime.now())"
   ]
  },
  {
   "cell_type": "markdown",
   "metadata": {},
   "source": [
    "Retuning the time indicator to every 750, which should be like 4 minutes"
   ]
  },
  {
   "cell_type": "code",
   "execution_count": 21,
   "metadata": {},
   "outputs": [
    {
     "name": "stdout",
     "output_type": "stream",
     "text": [
      "7160\n",
      "0\n",
      "2020-07-21 14:06:40.338846\n",
      "750\n",
      "2020-07-21 14:10:27.578891\n",
      "1500\n",
      "2020-07-21 14:14:14.054681\n",
      "2250\n",
      "2020-07-21 14:17:53.874945\n",
      "3000\n",
      "2020-07-21 14:21:36.882717\n",
      "3750\n",
      "2020-07-21 14:25:23.208528\n",
      "4500\n",
      "2020-07-21 14:29:03.767205\n",
      "5250\n",
      "2020-07-21 14:32:49.016709\n",
      "6000\n",
      "2020-07-21 14:36:33.844459\n",
      "6750\n",
      "2020-07-21 14:40:17.445634\n",
      "2020-07-21 14:42:24.311305\n"
     ]
    }
   ],
   "source": [
    "for x, i in enumerate(Italian_Trn_List):\n",
    "    if x == 0:\n",
    "        print(len(Italian_Trn_List))\n",
    "    rename_file(bucket, 'trn_pre/Italian/', 'trn/Italian/', str(i))\n",
    "    if x % 750 < 1:\n",
    "        print(x)\n",
    "        print(datetime.datetime.now())\n",
    "print(datetime.datetime.now())"
   ]
  },
  {
   "cell_type": "markdown",
   "metadata": {},
   "source": [
    "#### French"
   ]
  },
  {
   "cell_type": "code",
   "execution_count": 22,
   "metadata": {},
   "outputs": [
    {
     "name": "stdout",
     "output_type": "stream",
     "text": [
      "1942\n",
      "0\n",
      "2020-07-21 14:42:38.650867\n",
      "750\n",
      "2020-07-21 14:46:26.186356\n",
      "1500\n",
      "2020-07-21 14:51:15.711424\n",
      "2020-07-21 14:55:20.979265\n"
     ]
    }
   ],
   "source": [
    "for x, i in enumerate(French_Test_List):\n",
    "    if x == 0:\n",
    "        print(len(French_Test_List))\n",
    "    rename_file(bucket, 'test_pre/French/', 'test/French/', str(i))\n",
    "    if x % 750 < 1:\n",
    "        print(x)\n",
    "        print(datetime.datetime.now())\n",
    "print(datetime.datetime.now())"
   ]
  },
  {
   "cell_type": "code",
   "execution_count": 23,
   "metadata": {},
   "outputs": [
    {
     "name": "stdout",
     "output_type": "stream",
     "text": [
      "2024\n",
      "0\n",
      "2020-07-21 14:55:21.393084\n",
      "1000\n",
      "2020-07-21 15:02:01.662737\n",
      "2000\n",
      "2020-07-21 15:07:29.309740\n",
      "2020-07-21 15:07:36.621439\n"
     ]
    }
   ],
   "source": [
    "for x, i in enumerate(French_Val_List):\n",
    "    if x == 0:\n",
    "        print(len(French_Val_List))\n",
    "    rename_file(bucket, 'val_pre/French/', 'val/French/', str(i))\n",
    "    if x % 1000 < 1:\n",
    "        print(x)\n",
    "        print(datetime.datetime.now())\n",
    "print(datetime.datetime.now())"
   ]
  },
  {
   "cell_type": "code",
   "execution_count": 24,
   "metadata": {},
   "outputs": [
    {
     "name": "stdout",
     "output_type": "stream",
     "text": [
      "16278\n",
      "0\n",
      "2020-07-21 15:07:37.217909\n",
      "750\n",
      "2020-07-21 15:11:35.421629\n",
      "1500\n",
      "2020-07-21 15:15:49.123948\n",
      "2250\n",
      "2020-07-21 15:20:07.015728\n",
      "3000\n",
      "2020-07-21 15:24:10.928887\n",
      "3750\n",
      "2020-07-21 15:29:01.616687\n",
      "4500\n",
      "2020-07-21 15:33:05.342998\n",
      "5250\n",
      "2020-07-21 15:37:04.266764\n",
      "6000\n",
      "2020-07-21 15:41:02.530331\n",
      "6750\n",
      "2020-07-21 15:45:05.099628\n",
      "7500\n",
      "2020-07-21 15:49:04.535586\n",
      "8250\n",
      "2020-07-21 15:53:04.656727\n",
      "9000\n",
      "2020-07-21 15:57:02.764450\n",
      "9750\n",
      "2020-07-21 16:01:09.476885\n",
      "10500\n",
      "2020-07-21 16:05:12.348624\n",
      "11250\n",
      "2020-07-21 16:09:14.638134\n",
      "12000\n",
      "2020-07-21 16:13:10.426943\n",
      "12750\n",
      "2020-07-21 16:17:09.919827\n",
      "13500\n",
      "2020-07-21 16:21:16.126604\n",
      "14250\n",
      "2020-07-21 16:25:18.781532\n",
      "15000\n",
      "2020-07-21 16:29:19.025476\n",
      "15750\n",
      "2020-07-21 16:33:47.383760\n",
      "2020-07-21 16:36:37.519026\n"
     ]
    }
   ],
   "source": [
    "for x, i in enumerate(French_Trn_List):\n",
    "    if x == 0:\n",
    "        print(len(French_Trn_List))\n",
    "    rename_file(bucket, 'trn_pre/French/', 'trn/French/', str(i))\n",
    "    if x % 750 < 1:\n",
    "        print(x)\n",
    "        print(datetime.datetime.now())\n",
    "print(datetime.datetime.now())"
   ]
  },
  {
   "cell_type": "markdown",
   "metadata": {},
   "source": [
    "#### Japan\n",
    "\n",
    "Figured i'd get the big one out of the way."
   ]
  },
  {
   "cell_type": "code",
   "execution_count": 25,
   "metadata": {},
   "outputs": [
    {
     "name": "stdout",
     "output_type": "stream",
     "text": [
      "34399\n",
      "0\n",
      "2020-07-21 16:36:38.042606\n",
      "750\n",
      "2020-07-21 16:40:37.700245\n",
      "1500\n",
      "2020-07-21 16:44:37.815753\n",
      "2250\n",
      "2020-07-21 16:49:20.123622\n",
      "3000\n",
      "2020-07-21 16:53:52.597491\n",
      "3750\n",
      "2020-07-21 16:57:57.005081\n",
      "4500\n",
      "2020-07-21 17:01:59.092949\n",
      "5250\n",
      "2020-07-21 17:05:57.944270\n",
      "6000\n",
      "2020-07-21 17:09:50.597775\n",
      "6750\n",
      "2020-07-21 17:13:40.786236\n",
      "7500\n",
      "2020-07-21 17:17:29.701425\n",
      "8250\n",
      "2020-07-21 17:21:34.922088\n",
      "9000\n",
      "2020-07-21 17:25:24.958626\n",
      "9750\n",
      "2020-07-21 17:29:15.199888\n",
      "10500\n",
      "2020-07-21 17:33:03.671517\n",
      "11250\n",
      "2020-07-21 17:36:53.711724\n",
      "12000\n",
      "2020-07-21 17:40:41.887611\n",
      "12750\n",
      "2020-07-21 17:44:34.285228\n",
      "13500\n",
      "2020-07-21 17:48:23.436384\n",
      "14250\n",
      "2020-07-21 17:52:14.260040\n",
      "15000\n",
      "2020-07-21 17:56:01.891842\n",
      "15750\n",
      "2020-07-21 17:59:48.790111\n",
      "16500\n",
      "2020-07-21 18:04:04.163581\n",
      "17250\n",
      "2020-07-21 18:08:02.986155\n",
      "18000\n",
      "2020-07-21 18:12:00.908261\n",
      "18750\n",
      "2020-07-21 18:16:05.330383\n",
      "19500\n",
      "2020-07-21 18:20:09.309110\n",
      "20250\n",
      "2020-07-21 18:24:14.321558\n",
      "21000\n",
      "2020-07-21 18:28:13.685219\n",
      "21750\n",
      "2020-07-21 18:32:10.930901\n",
      "22500\n",
      "2020-07-21 18:36:07.656061\n",
      "23250\n",
      "2020-07-21 18:40:05.873030\n",
      "24000\n",
      "2020-07-21 18:44:11.757734\n",
      "24750\n",
      "2020-07-21 18:48:17.127168\n",
      "25500\n",
      "2020-07-21 18:52:32.777234\n",
      "26250\n",
      "2020-07-21 18:56:42.887995\n",
      "27000\n",
      "2020-07-21 19:00:42.315161\n",
      "27750\n",
      "2020-07-21 19:04:39.958070\n",
      "28500\n",
      "2020-07-21 19:08:38.459049\n",
      "29250\n",
      "2020-07-21 19:12:36.147050\n",
      "30000\n",
      "2020-07-21 19:16:29.222870\n",
      "30750\n",
      "2020-07-21 19:20:28.376012\n",
      "31500\n",
      "2020-07-21 19:24:25.074061\n",
      "32250\n",
      "2020-07-21 19:28:19.481876\n",
      "33000\n",
      "2020-07-21 19:32:19.166456\n",
      "33750\n",
      "2020-07-21 19:36:15.331227\n",
      "2020-07-21 19:39:36.860774\n"
     ]
    }
   ],
   "source": [
    "for x, i in enumerate(Japan_Trn_List):\n",
    "    if x == 0:\n",
    "        print(len(Japan_Trn_List))\n",
    "    rename_file(bucket, 'trn_pre/Japan/', 'trn/Japan/', str(i))\n",
    "    if x % 750 < 1:\n",
    "        print(x)\n",
    "        print(datetime.datetime.now())\n",
    "print(datetime.datetime.now())"
   ]
  },
  {
   "cell_type": "code",
   "execution_count": 26,
   "metadata": {},
   "outputs": [
    {
     "name": "stdout",
     "output_type": "stream",
     "text": [
      "4261\n",
      "0\n",
      "2020-07-21 19:39:37.322483\n",
      "750\n",
      "2020-07-21 19:43:35.854938\n",
      "1500\n",
      "2020-07-21 19:47:35.146887\n",
      "2250\n",
      "2020-07-21 19:51:32.723479\n",
      "3000\n",
      "2020-07-21 19:55:28.522124\n",
      "3750\n",
      "2020-07-21 19:59:21.628151\n",
      "2020-07-21 20:02:05.062156\n"
     ]
    }
   ],
   "source": [
    "for x, i in enumerate(Japan_Test_List):\n",
    "    if x == 0:\n",
    "        print(len(Japan_Test_List))\n",
    "    rename_file(bucket, 'test_pre/Japan/', 'test/Japan/', str(i))\n",
    "    if x % 750 < 1:\n",
    "        print(x)\n",
    "        print(datetime.datetime.now())\n",
    "print(datetime.datetime.now())"
   ]
  },
  {
   "cell_type": "code",
   "execution_count": 27,
   "metadata": {},
   "outputs": [
    {
     "name": "stdout",
     "output_type": "stream",
     "text": [
      "4616\n",
      "0\n",
      "2020-07-21 20:02:05.560812\n",
      "1000\n",
      "2020-07-21 20:07:31.359527\n",
      "2000\n",
      "2020-07-21 20:12:51.272934\n",
      "3000\n",
      "2020-07-21 20:18:09.231285\n",
      "4000\n",
      "2020-07-21 20:23:43.907744\n",
      "2020-07-21 20:27:01.245088\n"
     ]
    }
   ],
   "source": [
    "for x, i in enumerate(Japan_Val_List):\n",
    "    if x == 0:\n",
    "        print(len(Japan_Val_List))\n",
    "    rename_file(bucket, 'val_pre/Japan/', 'val/Japan/', str(i))\n",
    "    if x % 1000 < 1:\n",
    "        print(x)\n",
    "        print(datetime.datetime.now())\n",
    "print(datetime.datetime.now())"
   ]
  },
  {
   "cell_type": "markdown",
   "metadata": {},
   "source": [
    "#### China"
   ]
  },
  {
   "cell_type": "code",
   "execution_count": 28,
   "metadata": {},
   "outputs": [
    {
     "name": "stdout",
     "output_type": "stream",
     "text": [
      "2348\n",
      "0\n",
      "2020-07-21 20:27:01.703462\n",
      "1000\n",
      "2020-07-21 20:32:21.919693\n",
      "2000\n",
      "2020-07-21 20:37:58.378898\n",
      "2020-07-21 20:39:56.075492\n"
     ]
    }
   ],
   "source": [
    "for x, i in enumerate(China_Val_List):\n",
    "    if x == 0:\n",
    "        print(len(China_Val_List))\n",
    "    rename_file(bucket, 'val_pre/China/', 'val/China/', str(i))\n",
    "    if x % 1000 < 1:\n",
    "        print(x)\n",
    "        print(datetime.datetime.now())\n",
    "print(datetime.datetime.now())"
   ]
  },
  {
   "cell_type": "code",
   "execution_count": 29,
   "metadata": {},
   "outputs": [
    {
     "name": "stdout",
     "output_type": "stream",
     "text": [
      "2601\n",
      "0\n",
      "2020-07-21 20:39:56.696353\n",
      "750\n",
      "2020-07-21 20:44:01.835894\n",
      "1500\n",
      "2020-07-21 20:48:18.022271\n",
      "2250\n",
      "2020-07-21 20:52:31.442583\n",
      "2020-07-21 20:54:52.857995\n"
     ]
    }
   ],
   "source": [
    "for x, i in enumerate(China_Test_List):\n",
    "    if x == 0:\n",
    "        print(len(China_Test_List))\n",
    "    rename_file(bucket, 'test_pre/China/', 'test/China/', str(i))\n",
    "    if x % 750 < 1:\n",
    "        print(x)\n",
    "        print(datetime.datetime.now())\n",
    "print(datetime.datetime.now())"
   ]
  },
  {
   "cell_type": "code",
   "execution_count": 32,
   "metadata": {},
   "outputs": [
    {
     "name": "stdout",
     "output_type": "stream",
     "text": [
      "18385\n",
      "0\n",
      "2020-07-22 09:17:54.870913\n",
      "750\n",
      "2020-07-22 09:24:37.535691\n",
      "failure 39668/8.jpg\n",
      "1500\n",
      "2020-07-22 09:31:05.305814\n",
      "2250\n",
      "2020-07-22 09:35:55.453099\n",
      "3000\n",
      "2020-07-22 09:40:53.787670\n",
      "3750\n",
      "2020-07-22 09:45:42.475687\n",
      "4500\n",
      "2020-07-22 09:50:43.682740\n",
      "5250\n",
      "2020-07-22 09:55:32.445037\n",
      "6000\n",
      "2020-07-22 10:00:19.483681\n",
      "failure 44759/26.JPG\n",
      "6750\n",
      "2020-07-22 10:05:49.963495\n",
      "7500\n",
      "2020-07-22 10:10:39.101240\n",
      "8250\n",
      "2020-07-22 10:15:29.001752\n",
      "9000\n",
      "2020-07-22 10:20:11.804820\n",
      "9750\n",
      "2020-07-22 10:24:46.642867\n",
      "10500\n",
      "2020-07-22 10:29:16.665886\n",
      "11250\n",
      "2020-07-22 10:33:48.821045\n",
      "12000\n",
      "2020-07-22 10:38:49.384217\n",
      "12750\n",
      "2020-07-22 10:44:08.171297\n",
      "13500\n",
      "2020-07-22 10:48:54.011728\n",
      "14250\n",
      "2020-07-22 10:53:23.123097\n",
      "15000\n",
      "2020-07-22 10:57:53.038791\n",
      "15750\n",
      "2020-07-22 11:02:20.577357\n",
      "16500\n",
      "2020-07-22 11:06:48.102189\n",
      "17250\n",
      "2020-07-22 11:11:33.904284\n",
      "18000\n",
      "2020-07-22 11:16:32.572559\n",
      "2020-07-22 11:19:09.570384\n"
     ]
    }
   ],
   "source": [
    "for x, i in enumerate(China_Trn_List):\n",
    "    if x == 0:\n",
    "        print(len(China_Trn_List))\n",
    "    rename_file(bucket, 'trn_pre/China/', 'trn/China/', str(i))\n",
    "    if x % 750 < 1:\n",
    "        print(x)\n",
    "        print(datetime.datetime.now())\n",
    "print(datetime.datetime.now())"
   ]
  },
  {
   "cell_type": "markdown",
   "metadata": {},
   "source": [
    "#### AMERICAN"
   ]
  },
  {
   "cell_type": "code",
   "execution_count": 30,
   "metadata": {},
   "outputs": [
    {
     "name": "stdout",
     "output_type": "stream",
     "text": [
      "2017\n",
      "0\n",
      "2020-07-21 21:02:11.896347\n",
      "750\n",
      "2020-07-21 21:06:16.996556\n",
      "1500\n",
      "2020-07-21 21:10:12.954987\n",
      "2020-07-21 21:12:58.356978\n"
     ]
    }
   ],
   "source": [
    "for x, i in enumerate(American_Val_List):\n",
    "    if x == 0:\n",
    "        print(len(American_Val_List))\n",
    "    rename_file(bucket, 'val_pre/American/', 'val/American/', str(i))\n",
    "    if x % 750 < 1:\n",
    "        print(x)\n",
    "        print(datetime.datetime.now())\n",
    "print(datetime.datetime.now())"
   ]
  },
  {
   "cell_type": "code",
   "execution_count": 31,
   "metadata": {},
   "outputs": [
    {
     "name": "stdout",
     "output_type": "stream",
     "text": [
      "2407\n",
      "0\n",
      "2020-07-21 21:13:01.569865\n",
      "750\n",
      "2020-07-21 21:17:06.972218\n",
      "1500\n",
      "2020-07-21 21:21:09.600339\n",
      "2250\n",
      "2020-07-21 21:25:10.668527\n",
      "2020-07-21 21:26:02.984257\n"
     ]
    }
   ],
   "source": [
    "for x, i in enumerate(American_Test_List):\n",
    "    if x == 0:\n",
    "        print(len(American_Test_List))\n",
    "    rename_file(bucket, 'test_pre/American/', 'test/American/', str(i))\n",
    "    if x % 750 < 1:\n",
    "        print(x)\n",
    "        print(datetime.datetime.now())\n",
    "print(datetime.datetime.now())"
   ]
  },
  {
   "cell_type": "code",
   "execution_count": 33,
   "metadata": {},
   "outputs": [
    {
     "name": "stdout",
     "output_type": "stream",
     "text": [
      "16824\n",
      "0\n",
      "2020-07-22 11:19:52.724225\n",
      "750\n",
      "2020-07-22 11:24:34.434914\n",
      "failure 107122/4.jpg\n",
      "1500\n",
      "2020-07-22 11:29:46.679557\n",
      "2250\n",
      "2020-07-22 11:34:18.530223\n",
      "3000\n",
      "2020-07-22 11:38:54.984691\n",
      "3750\n",
      "2020-07-22 11:43:51.043639\n",
      "4500\n",
      "2020-07-22 11:47:41.586006\n",
      "5250\n",
      "2020-07-22 11:51:44.294338\n",
      "6000\n",
      "2020-07-22 11:55:37.529916\n",
      "6750\n",
      "2020-07-22 11:59:28.922067\n",
      "7500\n",
      "2020-07-22 12:03:38.580501\n",
      "8250\n",
      "2020-07-22 12:07:35.915809\n",
      "9000\n",
      "2020-07-22 12:11:35.981574\n",
      "9750\n",
      "2020-07-22 12:15:36.202032\n",
      "10500\n",
      "2020-07-22 12:19:30.410655\n",
      "11250\n",
      "2020-07-22 12:23:25.792702\n",
      "12000\n",
      "2020-07-22 12:27:21.870493\n",
      "12750\n",
      "2020-07-22 12:31:15.481204\n",
      "13500\n",
      "2020-07-22 12:35:12.848188\n",
      "14250\n",
      "2020-07-22 12:39:08.711617\n",
      "15000\n",
      "2020-07-22 12:43:07.479632\n",
      "15750\n",
      "2020-07-22 12:47:00.086391\n",
      "16500\n",
      "2020-07-22 12:50:50.000432\n",
      "2020-07-22 12:52:29.129458\n"
     ]
    }
   ],
   "source": [
    "for x, i in enumerate(American_Trn_List):\n",
    "    if x == 0:\n",
    "        print(len(American_Trn_List))\n",
    "    rename_file(bucket, 'trn_pre/American/', 'trn/American/', str(i))\n",
    "    if x % 750 < 1:\n",
    "        print(x)\n",
    "        print(datetime.datetime.now())\n",
    "print(datetime.datetime.now())"
   ]
  },
  {
   "cell_type": "code",
   "execution_count": null,
   "metadata": {},
   "outputs": [],
   "source": []
  }
 ],
 "metadata": {
  "kernelspec": {
   "display_name": "Python 3",
   "language": "python",
   "name": "python3"
  },
  "language_info": {
   "codemirror_mode": {
    "name": "ipython",
    "version": 3
   },
   "file_extension": ".py",
   "mimetype": "text/x-python",
   "name": "python",
   "nbconvert_exporter": "python",
   "pygments_lexer": "ipython3",
   "version": "3.7.1"
  }
 },
 "nbformat": 4,
 "nbformat_minor": 2
}
